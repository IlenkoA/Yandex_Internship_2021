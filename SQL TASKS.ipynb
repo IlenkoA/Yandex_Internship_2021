{
 "cells": [
  {
   "cell_type": "code",
   "execution_count": null,
   "metadata": {},
   "outputs": [],
   "source": [
    "# 1.1\n",
    "\n",
    "SELECT AVG(CASE WHEN promocode_id = null THEN 0.0 ELSE 100.0 END)\n",
    "FROM orders\n",
    "LEFT JOIN promocodes\n",
    "ON orders.promocode_id = promocodes.promocode_id\n",
    "#\n",
    "\n",
    "# 1.2\n",
    "\n",
    "SELECT TOP(1) name\n",
    "FROM (SELECT name, count(*) as number_of_utilization\n",
    "FROM orders\n",
    "LEFT JOIN promocodes\n",
    "ON orders.promocode_id = promocodes.promocode_id\n",
    "GROUP BY name)\n",
    "ORDER BY number_of_utilization\n",
    "#\n",
    "\n",
    "# 2.1\n",
    "\n",
    "SELECT TOP(10) office_name\n",
    "FROM (SELECT office_name, SUM(cookies) as Total \n",
    "FROM consumption\n",
    "LEFT JOIN buildings\n",
    "ON consumption.coffee_point_id = buildings.coffee_point_id\n",
    "GROUP BY office_name\n",
    "HAVING SUM(cookies) < 1000)\n",
    "ORDER BY Total\n",
    "#"
   ]
  }
 ],
 "metadata": {
  "kernelspec": {
   "display_name": "Python 3",
   "language": "python",
   "name": "python3"
  },
  "language_info": {
   "codemirror_mode": {
    "name": "ipython",
    "version": 3
   },
   "file_extension": ".py",
   "mimetype": "text/x-python",
   "name": "python",
   "nbconvert_exporter": "python",
   "pygments_lexer": "ipython3",
   "version": "3.7.6"
  }
 },
 "nbformat": 4,
 "nbformat_minor": 4
}
